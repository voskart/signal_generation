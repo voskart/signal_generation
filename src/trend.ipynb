{
 "cells": [
  {
   "cell_type": "code",
   "execution_count": 42,
   "metadata": {},
   "outputs": [
    {
     "name": "stderr",
     "output_type": "stream",
     "text": [
      "C:\\Users\\vosko\\AppData\\Local\\Temp\\ipykernel_23712\\3452797966.py:6: DtypeWarning: Columns (38) have mixed types. Specify dtype option on import or set low_memory=False.\n",
      "  df = pd.read_csv('../data/jan_data.csv')\n"
     ]
    },
    {
     "data": {
      "text/plain": [
       "1875000776.354"
      ]
     },
     "execution_count": 42,
     "metadata": {},
     "output_type": "execute_result"
    }
   ],
   "source": [
    "import pandas as pd\n",
    "import matplotlib.pyplot as plt\n",
    "from datetime import datetime as dt\n",
    "\n",
    "df = pd.read_csv('../data/jan_data.csv')\n",
    "df['time'] = pd.to_datetime(df['time'])\n",
    "\n",
    "df.iloc[1800]['dollar_open_interest_close']"
   ]
  },
  {
   "cell_type": "code",
   "execution_count": 113,
   "metadata": {},
   "outputs": [
    {
     "data": {
      "image/png": "[encoded data removed]",
      "text/plain": [
       "<Figure size 640x480 with 1 Axes>"
      ]
     },
     "metadata": {},
     "output_type": "display_data"
    }
   ],
   "source": [
    "\n",
    "df['diff'] = df['dollar_open_interest_close'].diff()\n",
    "df_jan2324 = df.loc[(df['time']>'2024-01-23')]\n",
    "x = df_jan2324['time']\n",
    "y = df_jan2324['diff']\n",
    "plt.xticks(rotation=90)\n",
    "markerline, stemlines, baseline  = plt.stem(x,y)\n",
    "plt.setp(baseline, color='r', linewidth=2)\n",
    "\n",
    "plt.show()\n"
   ]
  },
  {
   "cell_type": "code",
   "execution_count": 137,
   "metadata": {},
   "outputs": [
    {
     "name": "stdout",
     "output_type": "stream",
     "text": [
      "Range: 0 to 180: SignificanceResult(statistic=0.00409683426443203, pvalue=0.9349228271791208)\n",
      "Range: 180 to 360: SignificanceResult(statistic=-0.4388578522656735, pvalue=2.195951554894266e-18)\n",
      "Range: 360 to 540: SignificanceResult(statistic=-0.8351334574798261, pvalue=3.300893304623876e-62)\n",
      "Range: 540 to 720: SignificanceResult(statistic=-0.6774674115456238, pvalue=1.5136164437555877e-41)\n",
      "Range: 720 to 900: SignificanceResult(statistic=0.3587833643699565, pvalue=8.627092964160176e-13)\n",
      "Range: 900 to 1080: SignificanceResult(statistic=-0.22582247051520793, pvalue=6.769807618976139e-06)\n",
      "Range: 1080 to 1260: SignificanceResult(statistic=-0.02371198013656114, pvalue=0.636501146601555)\n",
      "Range: 1260 to 1440: SignificanceResult(statistic=0.46989447548106766, pvalue=7.581537823958069e-21)\n",
      "Range: 1440 to 1620: SignificanceResult(statistic=0.10837988826815642, pvalue=0.03076591656139692)\n",
      "Range: 1620 to 1800: SignificanceResult(statistic=0.6877715704531346, pvalue=9.121836017052338e-43)\n",
      "Range: 1800 to 1980: SignificanceResult(statistic=0.1345747982619491, pvalue=0.007314623875544288)\n",
      "Range: 1980 to 2160: SignificanceResult(statistic=-0.2880198634388579, pvalue=9.443197376858432e-09)\n",
      "Range: 2160 to 2340: SignificanceResult(statistic=0.008690254500310366, pvalue=0.8624919665847234)\n"
     ]
    },
    {
     "data": {
      "text/plain": [
       "19482    1.901609e+09\n",
       "19486    1.901900e+09\n",
       "19493    1.901198e+09\n",
       "19494    1.898465e+09\n",
       "19495    1.899142e+09\n",
       "             ...     \n",
       "20256    1.921913e+09\n",
       "20257    1.921682e+09\n",
       "20261    1.921061e+09\n",
       "20266    1.922155e+09\n",
       "20273    1.920926e+09\n",
       "Name: dollar_open_interest_close, Length: 180, dtype: float64"
      ]
     },
     "execution_count": 137,
     "metadata": {},
     "output_type": "execute_result"
    }
   ],
   "source": [
    "from scipy import stats\n",
    "import math\n",
    "\n",
    "df_slice = df_jan2324.loc[df_jan2324['search_resolution']==1]\n",
    "df_slice = df_slice.sort_values(by='time')\n",
    "df_slice = df_slice.drop_duplicates(subset=['time'])\n",
    "\n",
    "window = 180\n",
    "for i in range(1, math.floor(len(df_slice)/window)):\n",
    "    df_cut = df_slice.iloc[(i-1)*window:i*window]\n",
    "    print(f\"Range: {(i-1)*window} to {i*window}: {stats.kendalltau(df_cut.index, df_cut['dollar_open_interest_close'])}\")\n",
    "\n",
    "# max increase is between 1620 and 1800\n",
    "df_slice.iloc[1620:1800,:]['dollar_open_interest_close']"
   ]
  }
 ],
 "metadata": {
  "kernelspec": {
   "display_name": ".venv",
   "language": "python",
   "name": "python3"
  },
  "language_info": {
   "codemirror_mode": {
    "name": "ipython",
    "version": 3
   },
   "file_extension": ".py",
   "mimetype": "text/x-python",
   "name": "python",
   "nbconvert_exporter": "python",
   "pygments_lexer": "ipython3",
   "version": "3.11.5"
  }
 },
 "nbformat": 4,
 "nbformat_minor": 2
}
